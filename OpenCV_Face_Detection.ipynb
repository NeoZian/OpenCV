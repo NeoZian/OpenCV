{
  "nbformat": 4,
  "nbformat_minor": 0,
  "metadata": {
    "colab": {
      "provenance": [],
      "gpuType": "T4",
      "authorship_tag": "ABX9TyPTwAURB2NcUDEEju95k0PG",
      "include_colab_link": true
    },
    "kernelspec": {
      "name": "python3",
      "display_name": "Python 3"
    },
    "language_info": {
      "name": "python"
    },
    "accelerator": "GPU"
  },
  "cells": [
    {
      "cell_type": "markdown",
      "metadata": {
        "id": "view-in-github",
        "colab_type": "text"
      },
      "source": [
        "<a href=\"https://colab.research.google.com/github/NeoZian/OpenCV/blob/main/OpenCV_Face_Detection.ipynb\" target=\"_parent\"><img src=\"https://colab.research.google.com/assets/colab-badge.svg\" alt=\"Open In Colab\"/></a>"
      ]
    },
    {
      "cell_type": "markdown",
      "source": [
        "# New Section"
      ],
      "metadata": {
        "id": "8Os6eYnpZAPf"
      }
    },
    {
      "cell_type": "code",
      "execution_count": null,
      "metadata": {
        "id": "s7mETdsbUgRL"
      },
      "outputs": [],
      "source": [
        "import cv2"
      ]
    },
    {
      "cell_type": "code",
      "source": [
        "face_cascade = cv2.CascadeClassifier('face_detector.xml')  #using pretrained classifier, loading the cascade"
      ],
      "metadata": {
        "id": "haCcPYRIVHBR"
      },
      "execution_count": null,
      "outputs": []
    },
    {
      "cell_type": "code",
      "source": [
        "img = cv2.imread('test3.jpg')  #detecting face"
      ],
      "metadata": {
        "id": "sMsRhuHyZKbd"
      },
      "execution_count": null,
      "outputs": []
    },
    {
      "cell_type": "code",
      "source": [
        "faces = face_cascade.detectMultiScale(img,1.1,4)"
      ],
      "metadata": {
        "id": "cEgFvALRaFgY"
      },
      "execution_count": null,
      "outputs": []
    },
    {
      "cell_type": "code",
      "source": [
        "for(x,y,w,h) in faces:\n",
        "  cv2.rectangle(img,(x,y),(x+w,y+h),(255,0,0),2)  #rectangle drawing"
      ],
      "metadata": {
        "id": "ooAORypCZxmH"
      },
      "execution_count": null,
      "outputs": []
    },
    {
      "cell_type": "code",
      "source": [
        "#exporting file\n",
        "cv2.imwrite(\"miska.png\",img)\n",
        "print(\"photo exported\")"
      ],
      "metadata": {
        "colab": {
          "base_uri": "https://localhost:8080/"
        },
        "id": "6X5M3Mvoa4FV",
        "outputId": "557a47b9-b2de-457e-9800-97fdfda1c458"
      },
      "execution_count": null,
      "outputs": [
        {
          "output_type": "stream",
          "name": "stdout",
          "text": [
            "photo exported\n"
          ]
        }
      ]
    },
    {
      "cell_type": "code",
      "source": [],
      "metadata": {
        "id": "efSArnSrbSi0"
      },
      "execution_count": null,
      "outputs": []
    }
  ]
}